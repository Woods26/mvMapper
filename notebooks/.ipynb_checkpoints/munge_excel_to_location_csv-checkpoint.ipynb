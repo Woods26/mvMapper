{
 "cells": [
  {
   "cell_type": "code",
   "execution_count": 1,
   "metadata": {
    "collapsed": false
   },
   "outputs": [
    {
     "data": {
      "text/html": [
       "\n",
       "    <div class=\"bk-root\">\n",
       "        <a href=\"http://bokeh.pydata.org\" target=\"_blank\" class=\"bk-logo bk-logo-small bk-logo-notebook\"></a>\n",
       "        <span id=\"37795f83-7e54-4153-8d2b-b744483a2dc8\">Loading BokehJS ...</span>\n",
       "    </div>"
      ]
     },
     "metadata": {},
     "output_type": "display_data"
    },
    {
     "data": {
      "application/javascript": [
       "\n",
       "(function(global) {\n",
       "  function now() {\n",
       "    return new Date();\n",
       "  }\n",
       "\n",
       "  if (typeof (window._bokeh_onload_callbacks) === \"undefined\") {\n",
       "    window._bokeh_onload_callbacks = [];\n",
       "  }\n",
       "\n",
       "  function run_callbacks() {\n",
       "    window._bokeh_onload_callbacks.forEach(function(callback) { callback() });\n",
       "    delete window._bokeh_onload_callbacks\n",
       "    console.info(\"Bokeh: all callbacks have finished\");\n",
       "  }\n",
       "\n",
       "  function load_libs(js_urls, callback) {\n",
       "    window._bokeh_onload_callbacks.push(callback);\n",
       "    if (window._bokeh_is_loading > 0) {\n",
       "      console.log(\"Bokeh: BokehJS is being loaded, scheduling callback at\", now());\n",
       "      return null;\n",
       "    }\n",
       "    if (js_urls == null || js_urls.length === 0) {\n",
       "      run_callbacks();\n",
       "      return null;\n",
       "    }\n",
       "    console.log(\"Bokeh: BokehJS not loaded, scheduling load and callback at\", now());\n",
       "    window._bokeh_is_loading = js_urls.length;\n",
       "    for (var i = 0; i < js_urls.length; i++) {\n",
       "      var url = js_urls[i];\n",
       "      var s = document.createElement('script');\n",
       "      s.src = url;\n",
       "      s.async = false;\n",
       "      s.onreadystatechange = s.onload = function() {\n",
       "        window._bokeh_is_loading--;\n",
       "        if (window._bokeh_is_loading === 0) {\n",
       "          console.log(\"Bokeh: all BokehJS libraries loaded\");\n",
       "          run_callbacks()\n",
       "        }\n",
       "      };\n",
       "      s.onerror = function() {\n",
       "        console.warn(\"failed to load library \" + url);\n",
       "      };\n",
       "      console.log(\"Bokeh: injecting script tag for BokehJS library: \", url);\n",
       "      document.getElementsByTagName(\"head\")[0].appendChild(s);\n",
       "    }\n",
       "  };\n",
       "\n",
       "  var js_urls = ['https://cdn.pydata.org/bokeh/release/bokeh-0.12.0.min.js', 'https://cdn.pydata.org/bokeh/release/bokeh-widgets-0.12.0.min.js', 'https://cdn.pydata.org/bokeh/release/bokeh-compiler-0.12.0.min.js'];\n",
       "\n",
       "  var inline_js = [\n",
       "    function(Bokeh) {\n",
       "      Bokeh.set_log_level(\"info\");\n",
       "    },\n",
       "    \n",
       "    function(Bokeh) {\n",
       "      Bokeh.$(\"#37795f83-7e54-4153-8d2b-b744483a2dc8\").text(\"BokehJS successfully loaded\");\n",
       "    },\n",
       "    function(Bokeh) {\n",
       "      console.log(\"Bokeh: injecting CSS: https://cdn.pydata.org/bokeh/release/bokeh-0.12.0.min.css\");\n",
       "      Bokeh.embed.inject_css(\"https://cdn.pydata.org/bokeh/release/bokeh-0.12.0.min.css\");\n",
       "      console.log(\"Bokeh: injecting CSS: https://cdn.pydata.org/bokeh/release/bokeh-widgets-0.12.0.min.css\");\n",
       "      Bokeh.embed.inject_css(\"https://cdn.pydata.org/bokeh/release/bokeh-widgets-0.12.0.min.css\");\n",
       "    }\n",
       "  ];\n",
       "\n",
       "  function run_inline_js() {\n",
       "    for (var i = 0; i < inline_js.length; i++) {\n",
       "      inline_js[i](window.Bokeh);\n",
       "    }\n",
       "  }\n",
       "\n",
       "  if (window._bokeh_is_loading === 0) {\n",
       "    console.log(\"Bokeh: BokehJS loaded, going straight to plotting\");\n",
       "    run_inline_js();\n",
       "  } else {\n",
       "    load_libs(js_urls, function() {\n",
       "      console.log(\"Bokeh: BokehJS plotting callback run at\", now());\n",
       "      run_inline_js();\n",
       "    });\n",
       "  }\n",
       "}(this));"
      ]
     },
     "metadata": {},
     "output_type": "display_data"
    }
   ],
   "source": [
    "import os\n",
    "\n",
    "import pandas as pd\n",
    "import numpy as np\n",
    "\n",
    "import geocoder"
   ]
  },
  {
   "cell_type": "code",
   "execution_count": 2,
   "metadata": {
    "collapsed": true
   },
   "outputs": [],
   "source": [
    "fn = \"../data/Cucurbitae_Ethanol_collections_PBARC_SELECTIONS_Feb2016_SIM_selections_ms.xlsx\""
   ]
  },
  {
   "cell_type": "code",
   "execution_count": 3,
   "metadata": {
    "collapsed": false
   },
   "outputs": [],
   "source": [
    "# read in csv's from dapc analisis in R\n",
    "fns = {fn.strip().split(\".csv\")[0]:fn for fn in os.listdir(\"../data\") if fn in [\"assign.csv\", \"eig.csv\", \"ind.coord.csv\", \"posterior.csv\", \"grp.csv\"]}\n",
    "dfs = {n:pd.read_csv(\"../data/\" + fn) for n,fn in fns.items()}\n",
    "\n",
    "for n,df in dfs.items():\n",
    "    df.rename(columns={df.columns[0]: 'key'}, inplace=True)\n",
    "\n",
    "posterior = dfs[\"posterior\"].rename(columns=lambda x: x.split(\".\")[-1] if \"posterior.\" in x else x)\n",
    "posterior = posterior.join(dfs[\"assign\"][\"assign\"])\n",
    "posterior[\"posterior_assign\"] = posterior.apply(lambda row: row[row[\"assign\"]], axis=1)\n",
    "posterior = posterior.join(dfs[\"grp\"][\"grp\"])\n",
    "posterior[\"posterior_grp\"] = posterior.apply(lambda row: row[row[\"grp\"]], axis=1)\n",
    "\n",
    "df = dfs[\"ind.coord\"].rename(columns=lambda x: x.split(\".\")[-1] if \"ind.coord.\" in x else x)\n",
    "df = df.join([dfs[\"assign\"][\"assign\"], dfs[\"grp\"][\"grp\"],\n",
    "              posterior[\"posterior_assign\"], posterior[\"posterior_grp\"]])"
   ]
  },
  {
   "cell_type": "code",
   "execution_count": 4,
   "metadata": {
    "collapsed": false
   },
   "outputs": [],
   "source": [
    "# read in excel sheets w/ location info\n",
    "s1 = pd.read_excel(fn, sheetname=\"Sheet1\")\n",
    "s2 = pd.read_excel(fn, sheetname=\"Sheet2\")"
   ]
  },
  {
   "cell_type": "code",
   "execution_count": 5,
   "metadata": {
    "collapsed": false
   },
   "outputs": [],
   "source": [
    "# pull \"MS\" number from end of sample names in order to cross reference with sheet2\n",
    "df[\"MS\"] = df[\"key\"].apply(lambda x: int(x.split(\"_\")[-1]) if x.split(\"_\")[-1].isdigit() else -1)"
   ]
  },
  {
   "cell_type": "code",
   "execution_count": 6,
   "metadata": {
    "collapsed": false
   },
   "outputs": [],
   "source": [
    "# function which uses \"MS\" number and sheet2 to retreve code\n",
    "def code(ms):\n",
    "    for index, row in s2.iterrows():\n",
    "        if row[\"MS_start\"] <= ms <= row[\"MS_end\"]:\n",
    "            return int(row[\"Code\"])\n",
    "    return -1"
   ]
  },
  {
   "cell_type": "code",
   "execution_count": 7,
   "metadata": {
    "collapsed": false
   },
   "outputs": [],
   "source": [
    "# retreve code for each sample\n",
    "df[\"Code\"] = df[\"MS\"].apply(code)"
   ]
  },
  {
   "cell_type": "code",
   "execution_count": 8,
   "metadata": {
    "collapsed": false
   },
   "outputs": [],
   "source": [
    "df = df.sort_values([\"Code\", \"key\"])"
   ]
  },
  {
   "cell_type": "code",
   "execution_count": 9,
   "metadata": {
    "collapsed": false
   },
   "outputs": [],
   "source": [
    "# merge data from sheet1 and sheet2 to sample data set\n",
    "df = df.merge(s2[[\"Code\", \"Country/Territory\", \"Island/Province/State\"]], on=\"Code\", how=\"left\")\n",
    "df = df.merge(s1[[\"Code\", \"Locality\", \"Decimal Latitude\", \"Decimal Longitude\", \"Elevation\", \"Date collected\", \"Collector\", \"Attractant\", \"Sex\", \"Comments\", \"Comments 2\"]], on=\"Code\", how=\"left\")"
   ]
  },
  {
   "cell_type": "code",
   "execution_count": 10,
   "metadata": {
    "collapsed": false
   },
   "outputs": [],
   "source": [
    "# for the samples missing lat/lng that have Country/Territory information, look up lat/lng of Country/Territory\n",
    "g_df = df.loc[(pd.isnull(df[\"Decimal Latitude\"])) & (pd.notnull(df[\"Country/Territory\"]))]\n",
    "g = {name:geocoder.google(name).latlng for name in g_df[\"Country/Territory\"].unique()}"
   ]
  },
  {
   "cell_type": "code",
   "execution_count": 11,
   "metadata": {
    "collapsed": false
   },
   "outputs": [],
   "source": [
    "# write new lat/lng info to sample data set\n",
    "df[\"Decimal Latitude\"] = df.apply(lambda x: g[x[\"Country/Territory\"]][0]\n",
    "                                  if (pd.isnull(x[\"Decimal Latitude\"]) & pd.notnull(x[\"Country/Territory\"]))\n",
    "                                  else x[\"Decimal Latitude\"], axis=1)\n",
    "\n",
    "df[\"Decimal Longitude\"] = df.apply(lambda x: g[x[\"Country/Territory\"]][1]\n",
    "                                   if (pd.isnull(x[\"Decimal Longitude\"]) & pd.notnull(x[\"Country/Territory\"]))\n",
    "                                   else x[\"Decimal Longitude\"], axis=1)"
   ]
  },
  {
   "cell_type": "code",
   "execution_count": 12,
   "metadata": {
    "collapsed": false
   },
   "outputs": [],
   "source": [
    "# cast to float\n",
    "df[\"Decimal Latitude\"] = df[\"Decimal Latitude\"].astype(\"float64\")\n",
    "df[\"Decimal Longitude\"] = df[\"Decimal Longitude\"].astype(\"float64\")"
   ]
  },
  {
   "cell_type": "code",
   "execution_count": 13,
   "metadata": {
    "collapsed": false
   },
   "outputs": [],
   "source": [
    "# clean up nulls\n",
    "df = df.applymap(lambda x: None if pd.isnull(x) else x)"
   ]
  },
  {
   "cell_type": "code",
   "execution_count": 14,
   "metadata": {
    "collapsed": true
   },
   "outputs": [],
   "source": [
    "out_df = df[[\"key\", \"Decimal Latitude\", \"Decimal Longitude\"]].dropna(axis='index')"
   ]
  },
  {
   "cell_type": "code",
   "execution_count": 15,
   "metadata": {
    "collapsed": false
   },
   "outputs": [],
   "source": [
    "out_df.to_csv(\"../data/location.csv\", index=False)"
   ]
  }
 ],
 "metadata": {
  "kernelspec": {
   "display_name": "Python 3",
   "language": "python",
   "name": "python3"
  },
  "language_info": {
   "codemirror_mode": {
    "name": "ipython",
    "version": 3
   },
   "file_extension": ".py",
   "mimetype": "text/x-python",
   "name": "python",
   "nbconvert_exporter": "python",
   "pygments_lexer": "ipython3",
   "version": "3.5.2"
  }
 },
 "nbformat": 4,
 "nbformat_minor": 0
}
