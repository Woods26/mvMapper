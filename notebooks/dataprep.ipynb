{
 "cells": [
  {
   "cell_type": "code",
   "execution_count": null,
   "metadata": {
    "collapsed": false
   },
   "outputs": [],
   "source": [
    "import os\n",
    "\n",
    "import pandas as pd\n",
    "import numpy as np\n",
    "\n",
    "data_directory = \"../data/\""
   ]
  },
  {
   "cell_type": "code",
   "execution_count": null,
   "metadata": {
    "collapsed": false
   },
   "outputs": [],
   "source": [
    "# read in csv's from dapc analisis in R\n",
    "fns = {fn.strip().split(\".csv\")[0]:fn for fn in os.listdir(data_directory) if fn in [\"assign.csv\", \"eig.csv\", \"ind.coord.csv\", \"posterior.csv\", \"grp.csv\"]}\n",
    "dfs = {n:pd.read_csv(data_directory + fn) for n,fn in fns.items()}\n",
    "\n",
    "# rename 0th column to key\n",
    "for n,df in dfs.items():\n",
    "    df.rename(columns={df.columns[0]: 'key'}, inplace=True)\n",
    "\n",
    "# extract posterior probabilities for a priori group (grp) and model predicted group (assign)\n",
    "posterior = dfs[\"posterior\"].rename(columns=lambda x: x.split(\".\")[-1] if \"posterior.\" in x else x)\n",
    "posterior = posterior.join(dfs[\"assign\"][\"assign\"])\n",
    "posterior[\"posterior_assign\"] = posterior.apply(lambda row: row[row[\"assign\"]], axis=1)\n",
    "posterior = posterior.join(dfs[\"grp\"][\"grp\"])\n",
    "posterior[\"posterior_grp\"] = posterior.apply(lambda row: row[row[\"grp\"]], axis=1)\n",
    "\n",
    "# append posterior probabilities to principle components \n",
    "df = dfs[\"ind.coord\"].rename(columns=lambda x: x.split(\".\")[-1] if \"ind.coord.\" in x else x)\n",
    "df = df.join([dfs[\"assign\"][\"assign\"], dfs[\"grp\"][\"grp\"],\n",
    "              posterior[\"posterior_assign\"], posterior[\"posterior_grp\"]])"
   ]
  },
  {
   "cell_type": "code",
   "execution_count": null,
   "metadata": {
    "collapsed": true
   },
   "outputs": [],
   "source": [
    "# append location information\n",
    "loc_df = pd.read_csv(data_directory + \"location.csv\")\n",
    "df = df.merge(loc_df, on=\"key\", how=\"left\")"
   ]
  },
  {
   "cell_type": "code",
   "execution_count": null,
   "metadata": {
    "collapsed": true
   },
   "outputs": [],
   "source": [
    "# clean up nulls\n",
    "df = df.applymap(lambda x: \"NaN\" if pd.isnull(x) else x)\n",
    "\n",
    "# output\n",
    "df.to_csv(data_directory + \"webapp_data.csv\", index=False)"
   ]
  }
 ],
 "metadata": {
  "kernelspec": {
   "display_name": "Python 3",
   "language": "python",
   "name": "python3"
  },
  "language_info": {
   "codemirror_mode": {
    "name": "ipython",
    "version": 3
   },
   "file_extension": ".py",
   "mimetype": "text/x-python",
   "name": "python",
   "nbconvert_exporter": "python",
   "pygments_lexer": "ipython3",
   "version": "3.5.2"
  }
 },
 "nbformat": 4,
 "nbformat_minor": 0
}
