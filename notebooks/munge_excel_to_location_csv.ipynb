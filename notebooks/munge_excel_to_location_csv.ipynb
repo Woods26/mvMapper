{
 "cells": [
  {
   "cell_type": "code",
   "execution_count": 1,
   "metadata": {
    "collapsed": false
   },
   "outputs": [],
   "source": [
    "import os\n",
    "\n",
    "import pandas as pd\n",
    "import numpy as np\n",
    "\n",
    "import geocoder"
   ]
  },
  {
   "cell_type": "code",
   "execution_count": 2,
   "metadata": {
    "collapsed": true
   },
   "outputs": [],
   "source": [
    "fn = \"Cucurbitae_Ethanol_collections_PBARC_SELECTIONS_Feb2016_SIM_selections_ms.xlsx\"\n",
    "data_directory = \"../data/\""
   ]
  },
  {
   "cell_type": "code",
   "execution_count": 3,
   "metadata": {
    "collapsed": false
   },
   "outputs": [],
   "source": [
    "# read in csv's from dapc analisis in R\n",
    "fns = {fn.strip().split(\".csv\")[0]:fn for fn in os.listdir(data_directory) if fn in [\"assign.csv\", \"eig.csv\", \"ind.coord.csv\", \"posterior.csv\", \"grp.csv\"]}\n",
    "dfs = {n:pd.read_csv(data_directory + fn) for n,fn in fns.items()}\n",
    "\n",
    "for n,df in dfs.items():\n",
    "    df.rename(columns={df.columns[0]: 'key'}, inplace=True)\n",
    "\n",
    "posterior = dfs[\"posterior\"].rename(columns=lambda x: x.split(\".\")[-1] if \"posterior.\" in x else x)\n",
    "posterior = posterior.join(dfs[\"assign\"][\"assign\"])\n",
    "posterior[\"posterior_assign\"] = posterior.apply(lambda row: row[row[\"assign\"]], axis=1)\n",
    "posterior = posterior.join(dfs[\"grp\"][\"grp\"])\n",
    "posterior[\"posterior_grp\"] = posterior.apply(lambda row: row[row[\"grp\"]], axis=1)\n",
    "\n",
    "df = dfs[\"ind.coord\"].rename(columns=lambda x: x.split(\".\")[-1] if \"ind.coord.\" in x else x)\n",
    "df = df.join([dfs[\"assign\"][\"assign\"], dfs[\"grp\"][\"grp\"],\n",
    "              posterior[\"posterior_assign\"], posterior[\"posterior_grp\"]])"
   ]
  },
  {
   "cell_type": "code",
   "execution_count": 4,
   "metadata": {
    "collapsed": false
   },
   "outputs": [],
   "source": [
    "# read in excel sheets w/ location info\n",
    "s1 = pd.read_excel(fn, sheetname=\"Sheet1\")\n",
    "s2 = pd.read_excel(fn, sheetname=\"Sheet2\")"
   ]
  },
  {
   "cell_type": "code",
   "execution_count": 5,
   "metadata": {
    "collapsed": false
   },
   "outputs": [],
   "source": [
    "# pull \"MS\" number from end of sample names in order to cross reference with sheet2\n",
    "df[\"MS\"] = df[\"key\"].apply(lambda x: int(x.split(\"_\")[-1]) if x.split(\"_\")[-1].isdigit() else -1)"
   ]
  },
  {
   "cell_type": "code",
   "execution_count": 6,
   "metadata": {
    "collapsed": false
   },
   "outputs": [],
   "source": [
    "# function which uses \"MS\" number and sheet2 to retreve code\n",
    "def code(ms):\n",
    "    for index, row in s2.iterrows():\n",
    "        if row[\"MS_start\"] <= ms <= row[\"MS_end\"]:\n",
    "            return int(row[\"Code\"])\n",
    "    return -1"
   ]
  },
  {
   "cell_type": "code",
   "execution_count": 7,
   "metadata": {
    "collapsed": false
   },
   "outputs": [],
   "source": [
    "# retreve code for each sample\n",
    "df[\"Code\"] = df[\"MS\"].apply(code)"
   ]
  },
  {
   "cell_type": "code",
   "execution_count": 8,
   "metadata": {
    "collapsed": false
   },
   "outputs": [],
   "source": [
    "df = df.sort_values([\"Code\", \"key\"])"
   ]
  },
  {
   "cell_type": "code",
   "execution_count": 9,
   "metadata": {
    "collapsed": false
   },
   "outputs": [],
   "source": [
    "# merge data from sheet1 and sheet2 to sample data set\n",
    "df = df.merge(s2[[\"Code\", \"Country/Territory\", \"Island/Province/State\"]], on=\"Code\", how=\"left\")\n",
    "df = df.merge(s1[[\"Code\", \"Locality\", \"Decimal Latitude\", \"Decimal Longitude\", \"Elevation\", \"Date collected\", \"Collector\", \"Attractant\", \"Sex\", \"Comments\", \"Comments 2\"]], on=\"Code\", how=\"left\")"
   ]
  },
  {
   "cell_type": "code",
   "execution_count": 10,
   "metadata": {
    "collapsed": false
   },
   "outputs": [],
   "source": [
    "# for the samples missing lat/lng that have Country/Territory information, look up lat/lng of Country/Territory\n",
    "g_df = df.loc[(pd.isnull(df[\"Decimal Latitude\"])) & (pd.notnull(df[\"Country/Territory\"]))]\n",
    "g = {name:geocoder.google(name).latlng for name in g_df[\"Country/Territory\"].unique()}"
   ]
  },
  {
   "cell_type": "code",
   "execution_count": 11,
   "metadata": {
    "collapsed": false
   },
   "outputs": [],
   "source": [
    "# write new lat/lng info to sample data set\n",
    "df[\"Decimal Latitude\"] = df.apply(lambda x: g[x[\"Country/Territory\"]][0]\n",
    "                                  if (pd.isnull(x[\"Decimal Latitude\"]) & pd.notnull(x[\"Country/Territory\"]))\n",
    "                                  else x[\"Decimal Latitude\"], axis=1)\n",
    "\n",
    "df[\"Decimal Longitude\"] = df.apply(lambda x: g[x[\"Country/Territory\"]][1]\n",
    "                                   if (pd.isnull(x[\"Decimal Longitude\"]) & pd.notnull(x[\"Country/Territory\"]))\n",
    "                                   else x[\"Decimal Longitude\"], axis=1)"
   ]
  },
  {
   "cell_type": "code",
   "execution_count": 12,
   "metadata": {
    "collapsed": false
   },
   "outputs": [],
   "source": [
    "# cast to float\n",
    "df[\"Decimal Latitude\"] = df[\"Decimal Latitude\"].astype(\"float64\")\n",
    "df[\"Decimal Longitude\"] = df[\"Decimal Longitude\"].astype(\"float64\")"
   ]
  },
  {
   "cell_type": "code",
   "execution_count": 13,
   "metadata": {
    "collapsed": false
   },
   "outputs": [],
   "source": [
    "# clean up nulls\n",
    "df = df.applymap(lambda x: None if pd.isnull(x) else x)"
   ]
  },
  {
   "cell_type": "code",
   "execution_count": 14,
   "metadata": {
    "collapsed": true
   },
   "outputs": [],
   "source": [
    "out_df = df[[\"key\", \"Decimal Latitude\", \"Decimal Longitude\"]].dropna(axis='index')"
   ]
  },
  {
   "cell_type": "code",
   "execution_count": 15,
   "metadata": {
    "collapsed": false
   },
   "outputs": [],
   "source": [
    "out_df.to_csv(data_directory + \"location.csv\", index=False)"
   ]
  }
 ],
 "metadata": {
  "kernelspec": {
   "display_name": "Python 3",
   "language": "python",
   "name": "python3"
  },
  "language_info": {
   "codemirror_mode": {
    "name": "ipython",
    "version": 3
   },
   "file_extension": ".py",
   "mimetype": "text/x-python",
   "name": "python",
   "nbconvert_exporter": "python",
   "pygments_lexer": "ipython3",
   "version": "3.5.2"
  }
 },
 "nbformat": 4,
 "nbformat_minor": 0
}
