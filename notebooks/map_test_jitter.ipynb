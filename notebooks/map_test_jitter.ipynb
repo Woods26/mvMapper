{
 "cells": [
  {
   "cell_type": "code",
   "execution_count": 1,
   "metadata": {
    "collapsed": false
   },
   "outputs": [
    {
     "data": {
      "text/html": [
       "\n",
       "    <div class=\"bk-root\">\n",
       "        <a href=\"http://bokeh.pydata.org\" target=\"_blank\" class=\"bk-logo bk-logo-small bk-logo-notebook\"></a>\n",
       "        <span id=\"d8b495f5-c653-4a0d-8f2b-c54dff751a36\">Loading BokehJS ...</span>\n",
       "    </div>"
      ]
     },
     "metadata": {},
     "output_type": "display_data"
    },
    {
     "data": {
      "application/javascript": [
       "\n",
       "(function(global) {\n",
       "  function now() {\n",
       "    return new Date();\n",
       "  }\n",
       "\n",
       "  if (typeof (window._bokeh_onload_callbacks) === \"undefined\") {\n",
       "    window._bokeh_onload_callbacks = [];\n",
       "  }\n",
       "\n",
       "  function run_callbacks() {\n",
       "    window._bokeh_onload_callbacks.forEach(function(callback) { callback() });\n",
       "    delete window._bokeh_onload_callbacks\n",
       "    console.info(\"Bokeh: all callbacks have finished\");\n",
       "  }\n",
       "\n",
       "  function load_libs(js_urls, callback) {\n",
       "    window._bokeh_onload_callbacks.push(callback);\n",
       "    if (window._bokeh_is_loading > 0) {\n",
       "      console.log(\"Bokeh: BokehJS is being loaded, scheduling callback at\", now());\n",
       "      return null;\n",
       "    }\n",
       "    if (js_urls == null || js_urls.length === 0) {\n",
       "      run_callbacks();\n",
       "      return null;\n",
       "    }\n",
       "    console.log(\"Bokeh: BokehJS not loaded, scheduling load and callback at\", now());\n",
       "    window._bokeh_is_loading = js_urls.length;\n",
       "    for (var i = 0; i < js_urls.length; i++) {\n",
       "      var url = js_urls[i];\n",
       "      var s = document.createElement('script');\n",
       "      s.src = url;\n",
       "      s.async = false;\n",
       "      s.onreadystatechange = s.onload = function() {\n",
       "        window._bokeh_is_loading--;\n",
       "        if (window._bokeh_is_loading === 0) {\n",
       "          console.log(\"Bokeh: all BokehJS libraries loaded\");\n",
       "          run_callbacks()\n",
       "        }\n",
       "      };\n",
       "      s.onerror = function() {\n",
       "        console.warn(\"failed to load library \" + url);\n",
       "      };\n",
       "      console.log(\"Bokeh: injecting script tag for BokehJS library: \", url);\n",
       "      document.getElementsByTagName(\"head\")[0].appendChild(s);\n",
       "    }\n",
       "  };\n",
       "\n",
       "  var js_urls = ['https://cdn.pydata.org/bokeh/release/bokeh-0.12.0.min.js', 'https://cdn.pydata.org/bokeh/release/bokeh-widgets-0.12.0.min.js', 'https://cdn.pydata.org/bokeh/release/bokeh-compiler-0.12.0.min.js'];\n",
       "\n",
       "  var inline_js = [\n",
       "    function(Bokeh) {\n",
       "      Bokeh.set_log_level(\"info\");\n",
       "    },\n",
       "    \n",
       "    function(Bokeh) {\n",
       "      Bokeh.$(\"#d8b495f5-c653-4a0d-8f2b-c54dff751a36\").text(\"BokehJS successfully loaded\");\n",
       "    },\n",
       "    function(Bokeh) {\n",
       "      console.log(\"Bokeh: injecting CSS: https://cdn.pydata.org/bokeh/release/bokeh-0.12.0.min.css\");\n",
       "      Bokeh.embed.inject_css(\"https://cdn.pydata.org/bokeh/release/bokeh-0.12.0.min.css\");\n",
       "      console.log(\"Bokeh: injecting CSS: https://cdn.pydata.org/bokeh/release/bokeh-widgets-0.12.0.min.css\");\n",
       "      Bokeh.embed.inject_css(\"https://cdn.pydata.org/bokeh/release/bokeh-widgets-0.12.0.min.css\");\n",
       "    }\n",
       "  ];\n",
       "\n",
       "  function run_inline_js() {\n",
       "    for (var i = 0; i < inline_js.length; i++) {\n",
       "      inline_js[i](window.Bokeh);\n",
       "    }\n",
       "  }\n",
       "\n",
       "  if (window._bokeh_is_loading === 0) {\n",
       "    console.log(\"Bokeh: BokehJS loaded, going straight to plotting\");\n",
       "    run_inline_js();\n",
       "  } else {\n",
       "    load_libs(js_urls, function() {\n",
       "      console.log(\"Bokeh: BokehJS plotting callback run at\", now());\n",
       "      run_inline_js();\n",
       "    });\n",
       "  }\n",
       "}(this));"
      ]
     },
     "metadata": {},
     "output_type": "display_data"
    }
   ],
   "source": [
    "from bokeh.plotting import figure, ColumnDataSource\n",
    "from bokeh.models import Jitter\n",
    "from bokeh.io import output_notebook, output_file, show\n",
    "from bokeh.tile_providers import STAMEN_TERRAIN\n",
    "from bokeh.palettes import magma, inferno, plasma, viridis\n",
    "\n",
    "import os\n",
    "\n",
    "import pandas as pd\n",
    "import numpy as np\n",
    "\n",
    "import pyproj\n",
    "import geocoder\n",
    "\n",
    "output_notebook()"
   ]
  },
  {
   "cell_type": "code",
   "execution_count": 2,
   "metadata": {
    "collapsed": true
   },
   "outputs": [],
   "source": [
    "fn = \"Cucurbitae_Ethanol_collections_PBARC_SELECTIONS_Feb2016_SIM_selections_ms.xlsx\""
   ]
  },
  {
   "cell_type": "code",
   "execution_count": 3,
   "metadata": {
    "collapsed": false
   },
   "outputs": [],
   "source": [
    "s1 = pd.read_excel(fn, sheetname=\"Sheet1\")\n",
    "s2 = pd.read_excel(fn, sheetname=\"Sheet2\")"
   ]
  },
  {
   "cell_type": "code",
   "execution_count": 4,
   "metadata": {
    "collapsed": false
   },
   "outputs": [],
   "source": [
    "fns = {fn.strip().split(\".csv\")[0]:fn for fn in os.listdir(\".\") if fn in [\"assign.csv\", \"eig.csv\", \"ind.coord.csv\", \"posterior.csv\", \"grp.csv\"]}\n",
    "dfs = {n:pd.read_csv(fn) for n,fn in fns.items()}\n",
    "\n",
    "for n,df in dfs.items():\n",
    "    df.rename(columns={df.columns[0]: 'key'}, inplace=True)\n",
    "\n",
    "posterior = dfs[\"posterior\"].rename(columns=lambda x: x.split(\".\")[-1] if \"posterior.\" in x else x)\n",
    "posterior = posterior.join(dfs[\"assign\"][\"assign\"])\n",
    "posterior[\"posterior_assign\"] = posterior.apply(lambda row: row[row[\"assign\"]], axis=1)\n",
    "posterior = posterior.join(dfs[\"grp\"][\"grp\"])\n",
    "posterior[\"posterior_grp\"] = posterior.apply(lambda row: row[row[\"grp\"]], axis=1)\n",
    "\n",
    "df = dfs[\"ind.coord\"].rename(columns=lambda x: x.split(\".\")[-1] if \"ind.coord.\" in x else x)\n",
    "df = df.join([dfs[\"assign\"][\"assign\"], dfs[\"grp\"][\"grp\"],\n",
    "              posterior[\"posterior_assign\"], posterior[\"posterior_grp\"]])"
   ]
  },
  {
   "cell_type": "code",
   "execution_count": 5,
   "metadata": {
    "collapsed": false
   },
   "outputs": [],
   "source": [
    "df[\"MS\"] = df[\"key\"].apply(lambda x: int(x.split(\"_\")[-1]) if x.split(\"_\")[-1].isdigit() else -1)"
   ]
  },
  {
   "cell_type": "code",
   "execution_count": 6,
   "metadata": {
    "collapsed": false
   },
   "outputs": [],
   "source": [
    "def code(ms):\n",
    "    for index, row in s2.iterrows():\n",
    "        if row[\"MS_start\"] <= ms <= row[\"MS_end\"]:\n",
    "            return int(row[\"Code\"])\n",
    "    return -1"
   ]
  },
  {
   "cell_type": "code",
   "execution_count": 7,
   "metadata": {
    "collapsed": false
   },
   "outputs": [],
   "source": [
    "df[\"Code\"] = df[\"MS\"].apply(code)"
   ]
  },
  {
   "cell_type": "code",
   "execution_count": 8,
   "metadata": {
    "collapsed": false,
    "scrolled": true
   },
   "outputs": [],
   "source": [
    "df = df.sort_values(by=[\"Code\", \"key\"])"
   ]
  },
  {
   "cell_type": "code",
   "execution_count": 9,
   "metadata": {
    "collapsed": false
   },
   "outputs": [],
   "source": [
    "df = df.merge(s2[[\"Code\", \"Country/Territory\", \"Island/Province/State\"]], on=\"Code\", how=\"left\")\n",
    "df = df.merge(s1[[\"Code\", \"Locality\", \"Decimal Latitude\", \"Decimal Longitude\", \"Elevation\", \"Date collected\", \"Collector\", \"Attractant\", \"Sex\", \"Comments\", \"Comments 2\"]], on=\"Code\", how=\"left\")"
   ]
  },
  {
   "cell_type": "code",
   "execution_count": 10,
   "metadata": {
    "collapsed": false
   },
   "outputs": [],
   "source": [
    "g_df = df.loc[(pd.isnull(df[\"Decimal Latitude\"])) & (pd.notnull(df[\"Country/Territory\"]))]\n",
    "g = {name:geocoder.google(name).latlng for name in g_df[\"Country/Territory\"].unique()}"
   ]
  },
  {
   "cell_type": "code",
   "execution_count": 11,
   "metadata": {
    "collapsed": false
   },
   "outputs": [],
   "source": [
    "df[\"Decimal Latitude\"] = df.apply(lambda x: g[x[\"Country/Territory\"]][0]\n",
    "                                  if (pd.isnull(x[\"Decimal Latitude\"]) & pd.notnull(x[\"Country/Territory\"]))\n",
    "                                  else x[\"Decimal Latitude\"], axis=1)\n",
    "\n",
    "df[\"Decimal Longitude\"] = df.apply(lambda x: g[x[\"Country/Territory\"]][1]\n",
    "                                   if (pd.isnull(x[\"Decimal Longitude\"]) & pd.notnull(x[\"Country/Territory\"]))\n",
    "                                   else x[\"Decimal Longitude\"], axis=1)"
   ]
  },
  {
   "cell_type": "code",
   "execution_count": 17,
   "metadata": {
    "collapsed": false,
    "scrolled": true
   },
   "outputs": [
    {
     "ename": "TypeError",
     "evalue": "float() argument must be a string or a number, not 'Range1d'",
     "output_type": "error",
     "traceback": [
      "\u001b[0;31m---------------------------------------------------------------------------\u001b[0m",
      "\u001b[0;31mTypeError\u001b[0m                                 Traceback (most recent call last)",
      "\u001b[0;32m<ipython-input-17-c68c567c4428>\u001b[0m in \u001b[0;36m<module>\u001b[0;34m()\u001b[0m\n\u001b[1;32m     30\u001b[0m \u001b[0mfig\u001b[0m\u001b[0;34m.\u001b[0m\u001b[0maxis\u001b[0m\u001b[0;34m.\u001b[0m\u001b[0mvisible\u001b[0m \u001b[0;34m=\u001b[0m \u001b[0;32mFalse\u001b[0m\u001b[0;34m\u001b[0m\u001b[0m\n\u001b[1;32m     31\u001b[0m \u001b[0mfig\u001b[0m\u001b[0;34m.\u001b[0m\u001b[0madd_tile\u001b[0m\u001b[0;34m(\u001b[0m\u001b[0mSTAMEN_TERRAIN\u001b[0m\u001b[0;34m)\u001b[0m\u001b[0;34m\u001b[0m\u001b[0m\n\u001b[0;32m---> 32\u001b[0;31m \u001b[0mfig\u001b[0m\u001b[0;34m.\u001b[0m\u001b[0mcircle\u001b[0m\u001b[0;34m(\u001b[0m\u001b[0mx\u001b[0m\u001b[0;34m=\u001b[0m\u001b[0;34m{\u001b[0m\u001b[0;34m'field'\u001b[0m\u001b[0;34m:\u001b[0m \u001b[0;34m\"xs\"\u001b[0m\u001b[0;34m,\u001b[0m \u001b[0;34m'transform'\u001b[0m\u001b[0;34m:\u001b[0m \u001b[0mJitter\u001b[0m\u001b[0;34m(\u001b[0m\u001b[0mwidth\u001b[0m\u001b[0;34m=\u001b[0m\u001b[0mfloat\u001b[0m\u001b[0;34m(\u001b[0m\u001b[0mfig\u001b[0m\u001b[0;34m.\u001b[0m\u001b[0mx_range\u001b[0m\u001b[0;34m)\u001b[0m\u001b[0;34m/\u001b[0m\u001b[0;36m10.\u001b[0m\u001b[0;34m)\u001b[0m\u001b[0;34m}\u001b[0m\u001b[0;34m,\u001b[0m \u001b[0my\u001b[0m\u001b[0;34m=\u001b[0m\u001b[0;34m{\u001b[0m\u001b[0;34m'field'\u001b[0m\u001b[0;34m:\u001b[0m \u001b[0;34m\"ys\"\u001b[0m\u001b[0;34m,\u001b[0m \u001b[0;34m'transform'\u001b[0m\u001b[0;34m:\u001b[0m \u001b[0mJitter\u001b[0m\u001b[0;34m(\u001b[0m\u001b[0mwidth\u001b[0m\u001b[0;34m=\u001b[0m\u001b[0mfloat\u001b[0m\u001b[0;34m(\u001b[0m\u001b[0mfig\u001b[0m\u001b[0;34m.\u001b[0m\u001b[0my_range\u001b[0m\u001b[0;34m)\u001b[0m\u001b[0;34m/\u001b[0m\u001b[0;36m10.\u001b[0m\u001b[0;34m)\u001b[0m\u001b[0;34m}\u001b[0m\u001b[0;34m,\u001b[0m \u001b[0mcolor\u001b[0m\u001b[0;34m=\u001b[0m\u001b[0;34m\"c\"\u001b[0m\u001b[0;34m,\u001b[0m \u001b[0msize\u001b[0m\u001b[0;34m=\u001b[0m\u001b[0;34m\"sz\"\u001b[0m\u001b[0;34m,\u001b[0m \u001b[0msource\u001b[0m\u001b[0;34m=\u001b[0m\u001b[0mcds\u001b[0m\u001b[0;34m)\u001b[0m\u001b[0;34m\u001b[0m\u001b[0m\n\u001b[0m\u001b[1;32m     33\u001b[0m \u001b[0moutput_file\u001b[0m\u001b[0;34m(\u001b[0m\u001b[0;34m\"map.html\"\u001b[0m\u001b[0;34m)\u001b[0m\u001b[0;34m\u001b[0m\u001b[0m\n\u001b[1;32m     34\u001b[0m \u001b[0mshow\u001b[0m\u001b[0;34m(\u001b[0m\u001b[0mfig\u001b[0m\u001b[0;34m)\u001b[0m\u001b[0;34m\u001b[0m\u001b[0m\n",
      "\u001b[0;31mTypeError\u001b[0m: float() argument must be a string or a number, not 'Range1d'"
     ]
    }
   ],
   "source": [
    "# color and size pallets\n",
    "SIZES = list(range(6, 22, 3))\n",
    "COLORS = plasma(max(len(df[\"grp\"].unique()), len(df[\"assign\"].unique())))\n",
    "\n",
    "# size column\n",
    "groups = pd.qcut(df[\"posterior_assign\"].values, len(SIZES))\n",
    "sz = [SIZES[xx] for xx in groups.codes]\n",
    "\n",
    "# color column\n",
    "values = sorted(df[\"assign\"].unique(), key=lambda x: int(x))\n",
    "codes = dict(zip(values, range(len(values))))\n",
    "groups = [codes[val] for val in df[\"assign\"].values]\n",
    "c = [COLORS[xx] for xx in groups]\n",
    "\n",
    "# transform coords to map projection\n",
    "wgs84 = pyproj.Proj(init=\"epsg:4326\")\n",
    "webMer = pyproj.Proj(init=\"epsg:3857\")\n",
    "df[\"easting\"] = np.nan\n",
    "df[\"northing\"] = np.nan\n",
    "df.loc[pd.notnull(df[\"Decimal Longitude\"]), \"easting\"], df.loc[pd.notnull(df[\"Decimal Latitude\"]), \"northing\"] = zip(\n",
    "    *df.loc[pd.notnull(df[\"Decimal Longitude\"])].apply(\n",
    "        lambda x: pyproj.transform(wgs84, webMer, x[\"Decimal Longitude\"], x[\"Decimal Latitude\"]), axis=1))\n",
    "\n",
    "# load data to a ColumnDataSource\n",
    "cds_df = pd.DataFrame({\"xs\":df[\"easting\"], \"ys\":df[\"northing\"], \"c\":c, \"sz\":sz})\n",
    "cds = ColumnDataSource(cds_df.loc[pd.notnull(cds_df[\"xs\"])])\n",
    "\n",
    "bound = 20000000 # meters\n",
    "fig = figure(tools='pan, wheel_zoom', x_range=(-bound, bound), y_range=(-bound, bound))\n",
    "fig.axis.visible = False\n",
    "fig.add_tile(STAMEN_TERRAIN)\n",
    "fig.circle(x={'field': \"xs\", 'transform': Jitter(width=}, y={'field': \"ys\", 'transform': Jitter(width=)}, color=\"c\", size=\"sz\", source=cds)\n",
    "output_file(\"map.html\")\n",
    "show(fig)"
   ]
  }
 ],
 "metadata": {
  "kernelspec": {
   "display_name": "Python 3",
   "language": "python",
   "name": "python3"
  },
  "language_info": {
   "codemirror_mode": {
    "name": "ipython",
    "version": 3
   },
   "file_extension": ".py",
   "mimetype": "text/x-python",
   "name": "python",
   "nbconvert_exporter": "python",
   "pygments_lexer": "ipython3",
   "version": "3.5.2"
  }
 },
 "nbformat": 4,
 "nbformat_minor": 0
}
