{
 "cells": [
  {
   "cell_type": "code",
   "execution_count": null,
   "metadata": {
    "collapsed": false
   },
   "outputs": [],
   "source": [
    "from bokeh.plotting import figure, ColumnDataSource\n",
    "from bokeh.models import Jitter\n",
    "from bokeh.io import output_notebook, output_file, show\n",
    "from bokeh.tile_providers import STAMEN_TERRAIN\n",
    "from bokeh.palettes import magma, inferno, plasma, viridis\n",
    "\n",
    "import os\n",
    "\n",
    "import pandas as pd\n",
    "import numpy as np\n",
    "\n",
    "import pyproj\n",
    "import geocoder\n",
    "\n",
    "output_notebook()"
   ]
  },
  {
   "cell_type": "code",
   "execution_count": null,
   "metadata": {
    "collapsed": true
   },
   "outputs": [],
   "source": [
    "fn = \"Cucurbitae_Ethanol_collections_PBARC_SELECTIONS_Feb2016_SIM_selections_ms.xlsx\""
   ]
  },
  {
   "cell_type": "code",
   "execution_count": null,
   "metadata": {
    "collapsed": false
   },
   "outputs": [],
   "source": [
    "# read in csv's from dapc analisis in R\n",
    "fns = {fn.strip().split(\".csv\")[0]:fn for fn in os.listdir(\".\") if fn in [\"assign.csv\", \"eig.csv\", \"ind.coord.csv\", \"posterior.csv\", \"grp.csv\"]}\n",
    "dfs = {n:pd.read_csv(fn) for n,fn in fns.items()}\n",
    "\n",
    "for n,df in dfs.items():\n",
    "    df.rename(columns={df.columns[0]: 'key'}, inplace=True)\n",
    "\n",
    "posterior = dfs[\"posterior\"].rename(columns=lambda x: x.split(\".\")[-1] if \"posterior.\" in x else x)\n",
    "posterior = posterior.join(dfs[\"assign\"][\"assign\"])\n",
    "posterior[\"posterior_assign\"] = posterior.apply(lambda row: row[row[\"assign\"]], axis=1)\n",
    "posterior = posterior.join(dfs[\"grp\"][\"grp\"])\n",
    "posterior[\"posterior_grp\"] = posterior.apply(lambda row: row[row[\"grp\"]], axis=1)\n",
    "\n",
    "df = dfs[\"ind.coord\"].rename(columns=lambda x: x.split(\".\")[-1] if \"ind.coord.\" in x else x)\n",
    "df = df.join([dfs[\"assign\"][\"assign\"], dfs[\"grp\"][\"grp\"],\n",
    "              posterior[\"posterior_assign\"], posterior[\"posterior_grp\"]])"
   ]
  },
  {
   "cell_type": "code",
   "execution_count": null,
   "metadata": {
    "collapsed": false
   },
   "outputs": [],
   "source": [
    "# read in excel sheets w/ location info\n",
    "s1 = pd.read_excel(fn, sheetname=\"Sheet1\")\n",
    "s2 = pd.read_excel(fn, sheetname=\"Sheet2\")"
   ]
  },
  {
   "cell_type": "code",
   "execution_count": null,
   "metadata": {
    "collapsed": false
   },
   "outputs": [],
   "source": [
    "# pull \"MS\" number from end of sample names in order to cross reference with sheet2\n",
    "df[\"MS\"] = df[\"key\"].apply(lambda x: int(x.split(\"_\")[-1]) if x.split(\"_\")[-1].isdigit() else -1)"
   ]
  },
  {
   "cell_type": "code",
   "execution_count": null,
   "metadata": {
    "collapsed": false
   },
   "outputs": [],
   "source": [
    "# function which uses \"MS\" number and sheet2 to retreve code\n",
    "def code(ms):\n",
    "    for index, row in s2.iterrows():\n",
    "        if row[\"MS_start\"] <= ms <= row[\"MS_end\"]:\n",
    "            return int(row[\"Code\"])\n",
    "    return -1"
   ]
  },
  {
   "cell_type": "code",
   "execution_count": null,
   "metadata": {
    "collapsed": false
   },
   "outputs": [],
   "source": [
    "# retreve code for each sample\n",
    "df[\"Code\"] = df[\"MS\"].apply(code)"
   ]
  },
  {
   "cell_type": "code",
   "execution_count": null,
   "metadata": {
    "collapsed": false
   },
   "outputs": [],
   "source": [
    "df = df.sort_values([\"Code\", \"key\"])"
   ]
  },
  {
   "cell_type": "code",
   "execution_count": null,
   "metadata": {
    "collapsed": false
   },
   "outputs": [],
   "source": [
    "# merge data from sheet1 and sheet2 to sample data set\n",
    "df = df.merge(s2[[\"Code\", \"Country/Territory\", \"Island/Province/State\"]], on=\"Code\", how=\"left\")\n",
    "df = df.merge(s1[[\"Code\", \"Locality\", \"Decimal Latitude\", \"Decimal Longitude\", \"Elevation\", \"Date collected\", \"Collector\", \"Attractant\", \"Sex\", \"Comments\", \"Comments 2\"]], on=\"Code\", how=\"left\")"
   ]
  },
  {
   "cell_type": "code",
   "execution_count": null,
   "metadata": {
    "collapsed": true
   },
   "outputs": [],
   "source": [
    "#df[[\"key\", \"Decimal Latitude\", \"Decimal Longitude\"]].to_csv(\"coords.csv\", index=False)"
   ]
  },
  {
   "cell_type": "code",
   "execution_count": null,
   "metadata": {
    "collapsed": false
   },
   "outputs": [],
   "source": [
    "# for the samples missing lat/lng that have Country/Territory information, look up lat/lng of Country/Territory\n",
    "g_df = df.loc[(pd.isnull(df[\"Decimal Latitude\"])) & (pd.notnull(df[\"Country/Territory\"]))]\n",
    "g = {name:geocoder.google(name).latlng for name in g_df[\"Country/Territory\"].unique()}"
   ]
  },
  {
   "cell_type": "code",
   "execution_count": null,
   "metadata": {
    "collapsed": false
   },
   "outputs": [],
   "source": [
    "#g"
   ]
  },
  {
   "cell_type": "code",
   "execution_count": null,
   "metadata": {
    "collapsed": false
   },
   "outputs": [],
   "source": [
    "# write new lat/lng info to sample data set\n",
    "df[\"Decimal Latitude\"] = df.apply(lambda x: g[x[\"Country/Territory\"]][0]\n",
    "                                  if (pd.isnull(x[\"Decimal Latitude\"]) & pd.notnull(x[\"Country/Territory\"]))\n",
    "                                  else x[\"Decimal Latitude\"], axis=1)\n",
    "\n",
    "df[\"Decimal Longitude\"] = df.apply(lambda x: g[x[\"Country/Territory\"]][1]\n",
    "                                   if (pd.isnull(x[\"Decimal Longitude\"]) & pd.notnull(x[\"Country/Territory\"]))\n",
    "                                   else x[\"Decimal Longitude\"], axis=1)"
   ]
  },
  {
   "cell_type": "code",
   "execution_count": null,
   "metadata": {
    "collapsed": false,
    "scrolled": true
   },
   "outputs": [],
   "source": [
    "# transform coords to map projection\n",
    "wgs84 = pyproj.Proj(init=\"epsg:4326\")\n",
    "webMer = pyproj.Proj(init=\"epsg:3857\")\n",
    "df[\"easting\"] = np.nan\n",
    "df[\"northing\"] = np.nan\n",
    "df.loc[pd.notnull(df[\"Decimal Longitude\"]), \"easting\"], df.loc[pd.notnull(df[\"Decimal Latitude\"]), \"northing\"] = zip(\n",
    "    *df.loc[pd.notnull(df[\"Decimal Longitude\"])].apply(\n",
    "        lambda x: pyproj.transform(wgs84, webMer, x[\"Decimal Longitude\"], x[\"Decimal Latitude\"]), axis=1))\n",
    "\n",
    "# clean up nulls\n",
    "df = df.applymap(lambda x: None if pd.isnull(x) else x)\n",
    "\n",
    "# initilise color and size pallets\n",
    "SIZES = list(range(6, 22, 3))\n",
    "COLORS = plasma(max(len(df[\"grp\"].unique()), len(df[\"assign\"].unique())))\n",
    "\n",
    "# size column\n",
    "groups = pd.qcut(df[\"posterior_assign\"].values, len(SIZES))\n",
    "sz = [SIZES[xx] for xx in groups.codes]\n",
    "\n",
    "# color column\n",
    "values = sorted(df[\"assign\"].unique(), key=lambda x: int(x))\n",
    "codes = dict(zip(values, range(len(values))))\n",
    "groups = [codes[val] for val in df[\"assign\"].values]\n",
    "c = [COLORS[xx] for xx in groups]\n",
    "\n",
    "# create a ColumnDataSource from the sample data set\n",
    "cds = ColumnDataSource(df)\n",
    "\n",
    "# plot data on world map\n",
    "bound = 20000000 # meters\n",
    "TOOLS = \"pan,wheel_zoom,reset,save,box_select,lasso_select\"\n",
    "fig = figure(tools=TOOLS, x_range=(-bound, bound), y_range=(-bound, bound))\n",
    "fig.axis.visible = False\n",
    "fig.add_tile(STAMEN_TERRAIN)\n",
    "fig.circle(x={'field': \"easting\", 'transform': Jitter(width=150000)}, y={'field': \"northing\", 'transform': Jitter(width=150000)}, color=c, size=sz, source=cds)\n",
    "show(fig)"
   ]
  },
  {
   "cell_type": "code",
   "execution_count": null,
   "metadata": {
    "collapsed": false
   },
   "outputs": [],
   "source": [
    "if \"Code\" in df.columns:\n",
    "    df.drop('Code', axis=1, inplace=True)\n",
    "df.to_csv(\"bcur_munged.csv\")"
   ]
  }
 ],
 "metadata": {
  "kernelspec": {
   "display_name": "Python 3",
   "language": "python",
   "name": "python3"
  },
  "language_info": {
   "codemirror_mode": {
    "name": "ipython",
    "version": 3
   },
   "file_extension": ".py",
   "mimetype": "text/x-python",
   "name": "python",
   "nbconvert_exporter": "python",
   "pygments_lexer": "ipython3",
   "version": "3.5.2"
  }
 },
 "nbformat": 4,
 "nbformat_minor": 0
}
